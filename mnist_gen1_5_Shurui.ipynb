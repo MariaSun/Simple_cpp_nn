{
  "nbformat": 4,
  "nbformat_minor": 0,
  "metadata": {
    "accelerator": "GPU",
    "colab": {
      "name": "mnist_gen1_5.ipynb",
      "provenance": [],
      "collapsed_sections": [],
      "machine_shape": "hm",
      "include_colab_link": true
    },
    "kernelspec": {
      "display_name": "Python 3",
      "language": "python",
      "name": "python3"
    },
    "language_info": {
      "codemirror_mode": {
        "name": "ipython",
        "version": 3
      },
      "file_extension": ".py",
      "mimetype": "text/x-python",
      "name": "python",
      "nbconvert_exporter": "python",
      "pygments_lexer": "ipython3",
      "version": "3.5.2"
    },
    "widgets": {
      "application/vnd.jupyter.widget-state+json": {
        "084071547c384bf5b596b5d0eec5fb21": {
          "model_module": "@jupyter-widgets/controls",
          "model_name": "HBoxModel",
          "model_module_version": "1.5.0",
          "state": {
            "_dom_classes": [],
            "_model_module": "@jupyter-widgets/controls",
            "_model_module_version": "1.5.0",
            "_model_name": "HBoxModel",
            "_view_count": null,
            "_view_module": "@jupyter-widgets/controls",
            "_view_module_version": "1.5.0",
            "_view_name": "HBoxView",
            "box_style": "",
            "children": [
              "IPY_MODEL_a645e95885b645c1a058b2bde9e1b70a",
              "IPY_MODEL_0c0874c41a84490e81b0cf6fd1431072",
              "IPY_MODEL_4ee508bfe94b48a2b80284f78dddcfe5"
            ],
            "layout": "IPY_MODEL_3b7284b9c3874d319d83bfccc00e4747"
          }
        },
        "a645e95885b645c1a058b2bde9e1b70a": {
          "model_module": "@jupyter-widgets/controls",
          "model_name": "HTMLModel",
          "model_module_version": "1.5.0",
          "state": {
            "_dom_classes": [],
            "_model_module": "@jupyter-widgets/controls",
            "_model_module_version": "1.5.0",
            "_model_name": "HTMLModel",
            "_view_count": null,
            "_view_module": "@jupyter-widgets/controls",
            "_view_module_version": "1.5.0",
            "_view_name": "HTMLView",
            "description": "",
            "description_tooltip": null,
            "layout": "IPY_MODEL_3e3bf88e53ce428893d3db155c07f26a",
            "placeholder": "​",
            "style": "IPY_MODEL_3dde77ffc4974762abba397ba4937e61",
            "value": ""
          }
        },
        "0c0874c41a84490e81b0cf6fd1431072": {
          "model_module": "@jupyter-widgets/controls",
          "model_name": "FloatProgressModel",
          "model_module_version": "1.5.0",
          "state": {
            "_dom_classes": [],
            "_model_module": "@jupyter-widgets/controls",
            "_model_module_version": "1.5.0",
            "_model_name": "FloatProgressModel",
            "_view_count": null,
            "_view_module": "@jupyter-widgets/controls",
            "_view_module_version": "1.5.0",
            "_view_name": "ProgressView",
            "bar_style": "success",
            "description": "",
            "description_tooltip": null,
            "layout": "IPY_MODEL_1715128449cd49a79480bc2c256a7989",
            "max": 9912422,
            "min": 0,
            "orientation": "horizontal",
            "style": "IPY_MODEL_4543eabd71ab4304a2b7d6a94d3178b8",
            "value": 9912422
          }
        },
        "4ee508bfe94b48a2b80284f78dddcfe5": {
          "model_module": "@jupyter-widgets/controls",
          "model_name": "HTMLModel",
          "model_module_version": "1.5.0",
          "state": {
            "_dom_classes": [],
            "_model_module": "@jupyter-widgets/controls",
            "_model_module_version": "1.5.0",
            "_model_name": "HTMLModel",
            "_view_count": null,
            "_view_module": "@jupyter-widgets/controls",
            "_view_module_version": "1.5.0",
            "_view_name": "HTMLView",
            "description": "",
            "description_tooltip": null,
            "layout": "IPY_MODEL_e63e25bbf24a4bf7ba9a911f314b8286",
            "placeholder": "​",
            "style": "IPY_MODEL_d8cc9aef72554d19b019f003a35ac07a",
            "value": " 9913344/? [00:00&lt;00:00, 41034853.56it/s]"
          }
        },
        "3b7284b9c3874d319d83bfccc00e4747": {
          "model_module": "@jupyter-widgets/base",
          "model_name": "LayoutModel",
          "model_module_version": "1.2.0",
          "state": {
            "_model_module": "@jupyter-widgets/base",
            "_model_module_version": "1.2.0",
            "_model_name": "LayoutModel",
            "_view_count": null,
            "_view_module": "@jupyter-widgets/base",
            "_view_module_version": "1.2.0",
            "_view_name": "LayoutView",
            "align_content": null,
            "align_items": null,
            "align_self": null,
            "border": null,
            "bottom": null,
            "display": null,
            "flex": null,
            "flex_flow": null,
            "grid_area": null,
            "grid_auto_columns": null,
            "grid_auto_flow": null,
            "grid_auto_rows": null,
            "grid_column": null,
            "grid_gap": null,
            "grid_row": null,
            "grid_template_areas": null,
            "grid_template_columns": null,
            "grid_template_rows": null,
            "height": null,
            "justify_content": null,
            "justify_items": null,
            "left": null,
            "margin": null,
            "max_height": null,
            "max_width": null,
            "min_height": null,
            "min_width": null,
            "object_fit": null,
            "object_position": null,
            "order": null,
            "overflow": null,
            "overflow_x": null,
            "overflow_y": null,
            "padding": null,
            "right": null,
            "top": null,
            "visibility": null,
            "width": null
          }
        },
        "3e3bf88e53ce428893d3db155c07f26a": {
          "model_module": "@jupyter-widgets/base",
          "model_name": "LayoutModel",
          "model_module_version": "1.2.0",
          "state": {
            "_model_module": "@jupyter-widgets/base",
            "_model_module_version": "1.2.0",
            "_model_name": "LayoutModel",
            "_view_count": null,
            "_view_module": "@jupyter-widgets/base",
            "_view_module_version": "1.2.0",
            "_view_name": "LayoutView",
            "align_content": null,
            "align_items": null,
            "align_self": null,
            "border": null,
            "bottom": null,
            "display": null,
            "flex": null,
            "flex_flow": null,
            "grid_area": null,
            "grid_auto_columns": null,
            "grid_auto_flow": null,
            "grid_auto_rows": null,
            "grid_column": null,
            "grid_gap": null,
            "grid_row": null,
            "grid_template_areas": null,
            "grid_template_columns": null,
            "grid_template_rows": null,
            "height": null,
            "justify_content": null,
            "justify_items": null,
            "left": null,
            "margin": null,
            "max_height": null,
            "max_width": null,
            "min_height": null,
            "min_width": null,
            "object_fit": null,
            "object_position": null,
            "order": null,
            "overflow": null,
            "overflow_x": null,
            "overflow_y": null,
            "padding": null,
            "right": null,
            "top": null,
            "visibility": null,
            "width": null
          }
        },
        "3dde77ffc4974762abba397ba4937e61": {
          "model_module": "@jupyter-widgets/controls",
          "model_name": "DescriptionStyleModel",
          "model_module_version": "1.5.0",
          "state": {
            "_model_module": "@jupyter-widgets/controls",
            "_model_module_version": "1.5.0",
            "_model_name": "DescriptionStyleModel",
            "_view_count": null,
            "_view_module": "@jupyter-widgets/base",
            "_view_module_version": "1.2.0",
            "_view_name": "StyleView",
            "description_width": ""
          }
        },
        "1715128449cd49a79480bc2c256a7989": {
          "model_module": "@jupyter-widgets/base",
          "model_name": "LayoutModel",
          "model_module_version": "1.2.0",
          "state": {
            "_model_module": "@jupyter-widgets/base",
            "_model_module_version": "1.2.0",
            "_model_name": "LayoutModel",
            "_view_count": null,
            "_view_module": "@jupyter-widgets/base",
            "_view_module_version": "1.2.0",
            "_view_name": "LayoutView",
            "align_content": null,
            "align_items": null,
            "align_self": null,
            "border": null,
            "bottom": null,
            "display": null,
            "flex": null,
            "flex_flow": null,
            "grid_area": null,
            "grid_auto_columns": null,
            "grid_auto_flow": null,
            "grid_auto_rows": null,
            "grid_column": null,
            "grid_gap": null,
            "grid_row": null,
            "grid_template_areas": null,
            "grid_template_columns": null,
            "grid_template_rows": null,
            "height": null,
            "justify_content": null,
            "justify_items": null,
            "left": null,
            "margin": null,
            "max_height": null,
            "max_width": null,
            "min_height": null,
            "min_width": null,
            "object_fit": null,
            "object_position": null,
            "order": null,
            "overflow": null,
            "overflow_x": null,
            "overflow_y": null,
            "padding": null,
            "right": null,
            "top": null,
            "visibility": null,
            "width": null
          }
        },
        "4543eabd71ab4304a2b7d6a94d3178b8": {
          "model_module": "@jupyter-widgets/controls",
          "model_name": "ProgressStyleModel",
          "model_module_version": "1.5.0",
          "state": {
            "_model_module": "@jupyter-widgets/controls",
            "_model_module_version": "1.5.0",
            "_model_name": "ProgressStyleModel",
            "_view_count": null,
            "_view_module": "@jupyter-widgets/base",
            "_view_module_version": "1.2.0",
            "_view_name": "StyleView",
            "bar_color": null,
            "description_width": ""
          }
        },
        "e63e25bbf24a4bf7ba9a911f314b8286": {
          "model_module": "@jupyter-widgets/base",
          "model_name": "LayoutModel",
          "model_module_version": "1.2.0",
          "state": {
            "_model_module": "@jupyter-widgets/base",
            "_model_module_version": "1.2.0",
            "_model_name": "LayoutModel",
            "_view_count": null,
            "_view_module": "@jupyter-widgets/base",
            "_view_module_version": "1.2.0",
            "_view_name": "LayoutView",
            "align_content": null,
            "align_items": null,
            "align_self": null,
            "border": null,
            "bottom": null,
            "display": null,
            "flex": null,
            "flex_flow": null,
            "grid_area": null,
            "grid_auto_columns": null,
            "grid_auto_flow": null,
            "grid_auto_rows": null,
            "grid_column": null,
            "grid_gap": null,
            "grid_row": null,
            "grid_template_areas": null,
            "grid_template_columns": null,
            "grid_template_rows": null,
            "height": null,
            "justify_content": null,
            "justify_items": null,
            "left": null,
            "margin": null,
            "max_height": null,
            "max_width": null,
            "min_height": null,
            "min_width": null,
            "object_fit": null,
            "object_position": null,
            "order": null,
            "overflow": null,
            "overflow_x": null,
            "overflow_y": null,
            "padding": null,
            "right": null,
            "top": null,
            "visibility": null,
            "width": null
          }
        },
        "d8cc9aef72554d19b019f003a35ac07a": {
          "model_module": "@jupyter-widgets/controls",
          "model_name": "DescriptionStyleModel",
          "model_module_version": "1.5.0",
          "state": {
            "_model_module": "@jupyter-widgets/controls",
            "_model_module_version": "1.5.0",
            "_model_name": "DescriptionStyleModel",
            "_view_count": null,
            "_view_module": "@jupyter-widgets/base",
            "_view_module_version": "1.2.0",
            "_view_name": "StyleView",
            "description_width": ""
          }
        },
        "13e5606cf0f940f18878f519012b502d": {
          "model_module": "@jupyter-widgets/controls",
          "model_name": "HBoxModel",
          "model_module_version": "1.5.0",
          "state": {
            "_dom_classes": [],
            "_model_module": "@jupyter-widgets/controls",
            "_model_module_version": "1.5.0",
            "_model_name": "HBoxModel",
            "_view_count": null,
            "_view_module": "@jupyter-widgets/controls",
            "_view_module_version": "1.5.0",
            "_view_name": "HBoxView",
            "box_style": "",
            "children": [
              "IPY_MODEL_0564868c87894222aec57014bf51cfbb",
              "IPY_MODEL_4e5dc4f36bd24acd87d2a2289ee4681a",
              "IPY_MODEL_fdce2e25a72d4135baf1c1531866fa9e"
            ],
            "layout": "IPY_MODEL_839944aa3a784497a8cae3802063f2bf"
          }
        },
        "0564868c87894222aec57014bf51cfbb": {
          "model_module": "@jupyter-widgets/controls",
          "model_name": "HTMLModel",
          "model_module_version": "1.5.0",
          "state": {
            "_dom_classes": [],
            "_model_module": "@jupyter-widgets/controls",
            "_model_module_version": "1.5.0",
            "_model_name": "HTMLModel",
            "_view_count": null,
            "_view_module": "@jupyter-widgets/controls",
            "_view_module_version": "1.5.0",
            "_view_name": "HTMLView",
            "description": "",
            "description_tooltip": null,
            "layout": "IPY_MODEL_6b55d8853ca146adbe7303acbbe108dc",
            "placeholder": "​",
            "style": "IPY_MODEL_b8bf719a8dc54c5fb2e3336edab7ed48",
            "value": ""
          }
        },
        "4e5dc4f36bd24acd87d2a2289ee4681a": {
          "model_module": "@jupyter-widgets/controls",
          "model_name": "FloatProgressModel",
          "model_module_version": "1.5.0",
          "state": {
            "_dom_classes": [],
            "_model_module": "@jupyter-widgets/controls",
            "_model_module_version": "1.5.0",
            "_model_name": "FloatProgressModel",
            "_view_count": null,
            "_view_module": "@jupyter-widgets/controls",
            "_view_module_version": "1.5.0",
            "_view_name": "ProgressView",
            "bar_style": "success",
            "description": "",
            "description_tooltip": null,
            "layout": "IPY_MODEL_f0abc55fb62b4a73a98dc855769e0f39",
            "max": 28881,
            "min": 0,
            "orientation": "horizontal",
            "style": "IPY_MODEL_7d8f35469a254aff8faacb4b6d3d1759",
            "value": 28881
          }
        },
        "fdce2e25a72d4135baf1c1531866fa9e": {
          "model_module": "@jupyter-widgets/controls",
          "model_name": "HTMLModel",
          "model_module_version": "1.5.0",
          "state": {
            "_dom_classes": [],
            "_model_module": "@jupyter-widgets/controls",
            "_model_module_version": "1.5.0",
            "_model_name": "HTMLModel",
            "_view_count": null,
            "_view_module": "@jupyter-widgets/controls",
            "_view_module_version": "1.5.0",
            "_view_name": "HTMLView",
            "description": "",
            "description_tooltip": null,
            "layout": "IPY_MODEL_cf745d5357cd4aa381de8aef5f666134",
            "placeholder": "​",
            "style": "IPY_MODEL_1fbaa1fd91df424cb8129abff390b920",
            "value": " 29696/? [00:00&lt;00:00, 710495.09it/s]"
          }
        },
        "839944aa3a784497a8cae3802063f2bf": {
          "model_module": "@jupyter-widgets/base",
          "model_name": "LayoutModel",
          "model_module_version": "1.2.0",
          "state": {
            "_model_module": "@jupyter-widgets/base",
            "_model_module_version": "1.2.0",
            "_model_name": "LayoutModel",
            "_view_count": null,
            "_view_module": "@jupyter-widgets/base",
            "_view_module_version": "1.2.0",
            "_view_name": "LayoutView",
            "align_content": null,
            "align_items": null,
            "align_self": null,
            "border": null,
            "bottom": null,
            "display": null,
            "flex": null,
            "flex_flow": null,
            "grid_area": null,
            "grid_auto_columns": null,
            "grid_auto_flow": null,
            "grid_auto_rows": null,
            "grid_column": null,
            "grid_gap": null,
            "grid_row": null,
            "grid_template_areas": null,
            "grid_template_columns": null,
            "grid_template_rows": null,
            "height": null,
            "justify_content": null,
            "justify_items": null,
            "left": null,
            "margin": null,
            "max_height": null,
            "max_width": null,
            "min_height": null,
            "min_width": null,
            "object_fit": null,
            "object_position": null,
            "order": null,
            "overflow": null,
            "overflow_x": null,
            "overflow_y": null,
            "padding": null,
            "right": null,
            "top": null,
            "visibility": null,
            "width": null
          }
        },
        "6b55d8853ca146adbe7303acbbe108dc": {
          "model_module": "@jupyter-widgets/base",
          "model_name": "LayoutModel",
          "model_module_version": "1.2.0",
          "state": {
            "_model_module": "@jupyter-widgets/base",
            "_model_module_version": "1.2.0",
            "_model_name": "LayoutModel",
            "_view_count": null,
            "_view_module": "@jupyter-widgets/base",
            "_view_module_version": "1.2.0",
            "_view_name": "LayoutView",
            "align_content": null,
            "align_items": null,
            "align_self": null,
            "border": null,
            "bottom": null,
            "display": null,
            "flex": null,
            "flex_flow": null,
            "grid_area": null,
            "grid_auto_columns": null,
            "grid_auto_flow": null,
            "grid_auto_rows": null,
            "grid_column": null,
            "grid_gap": null,
            "grid_row": null,
            "grid_template_areas": null,
            "grid_template_columns": null,
            "grid_template_rows": null,
            "height": null,
            "justify_content": null,
            "justify_items": null,
            "left": null,
            "margin": null,
            "max_height": null,
            "max_width": null,
            "min_height": null,
            "min_width": null,
            "object_fit": null,
            "object_position": null,
            "order": null,
            "overflow": null,
            "overflow_x": null,
            "overflow_y": null,
            "padding": null,
            "right": null,
            "top": null,
            "visibility": null,
            "width": null
          }
        },
        "b8bf719a8dc54c5fb2e3336edab7ed48": {
          "model_module": "@jupyter-widgets/controls",
          "model_name": "DescriptionStyleModel",
          "model_module_version": "1.5.0",
          "state": {
            "_model_module": "@jupyter-widgets/controls",
            "_model_module_version": "1.5.0",
            "_model_name": "DescriptionStyleModel",
            "_view_count": null,
            "_view_module": "@jupyter-widgets/base",
            "_view_module_version": "1.2.0",
            "_view_name": "StyleView",
            "description_width": ""
          }
        },
        "f0abc55fb62b4a73a98dc855769e0f39": {
          "model_module": "@jupyter-widgets/base",
          "model_name": "LayoutModel",
          "model_module_version": "1.2.0",
          "state": {
            "_model_module": "@jupyter-widgets/base",
            "_model_module_version": "1.2.0",
            "_model_name": "LayoutModel",
            "_view_count": null,
            "_view_module": "@jupyter-widgets/base",
            "_view_module_version": "1.2.0",
            "_view_name": "LayoutView",
            "align_content": null,
            "align_items": null,
            "align_self": null,
            "border": null,
            "bottom": null,
            "display": null,
            "flex": null,
            "flex_flow": null,
            "grid_area": null,
            "grid_auto_columns": null,
            "grid_auto_flow": null,
            "grid_auto_rows": null,
            "grid_column": null,
            "grid_gap": null,
            "grid_row": null,
            "grid_template_areas": null,
            "grid_template_columns": null,
            "grid_template_rows": null,
            "height": null,
            "justify_content": null,
            "justify_items": null,
            "left": null,
            "margin": null,
            "max_height": null,
            "max_width": null,
            "min_height": null,
            "min_width": null,
            "object_fit": null,
            "object_position": null,
            "order": null,
            "overflow": null,
            "overflow_x": null,
            "overflow_y": null,
            "padding": null,
            "right": null,
            "top": null,
            "visibility": null,
            "width": null
          }
        },
        "7d8f35469a254aff8faacb4b6d3d1759": {
          "model_module": "@jupyter-widgets/controls",
          "model_name": "ProgressStyleModel",
          "model_module_version": "1.5.0",
          "state": {
            "_model_module": "@jupyter-widgets/controls",
            "_model_module_version": "1.5.0",
            "_model_name": "ProgressStyleModel",
            "_view_count": null,
            "_view_module": "@jupyter-widgets/base",
            "_view_module_version": "1.2.0",
            "_view_name": "StyleView",
            "bar_color": null,
            "description_width": ""
          }
        },
        "cf745d5357cd4aa381de8aef5f666134": {
          "model_module": "@jupyter-widgets/base",
          "model_name": "LayoutModel",
          "model_module_version": "1.2.0",
          "state": {
            "_model_module": "@jupyter-widgets/base",
            "_model_module_version": "1.2.0",
            "_model_name": "LayoutModel",
            "_view_count": null,
            "_view_module": "@jupyter-widgets/base",
            "_view_module_version": "1.2.0",
            "_view_name": "LayoutView",
            "align_content": null,
            "align_items": null,
            "align_self": null,
            "border": null,
            "bottom": null,
            "display": null,
            "flex": null,
            "flex_flow": null,
            "grid_area": null,
            "grid_auto_columns": null,
            "grid_auto_flow": null,
            "grid_auto_rows": null,
            "grid_column": null,
            "grid_gap": null,
            "grid_row": null,
            "grid_template_areas": null,
            "grid_template_columns": null,
            "grid_template_rows": null,
            "height": null,
            "justify_content": null,
            "justify_items": null,
            "left": null,
            "margin": null,
            "max_height": null,
            "max_width": null,
            "min_height": null,
            "min_width": null,
            "object_fit": null,
            "object_position": null,
            "order": null,
            "overflow": null,
            "overflow_x": null,
            "overflow_y": null,
            "padding": null,
            "right": null,
            "top": null,
            "visibility": null,
            "width": null
          }
        },
        "1fbaa1fd91df424cb8129abff390b920": {
          "model_module": "@jupyter-widgets/controls",
          "model_name": "DescriptionStyleModel",
          "model_module_version": "1.5.0",
          "state": {
            "_model_module": "@jupyter-widgets/controls",
            "_model_module_version": "1.5.0",
            "_model_name": "DescriptionStyleModel",
            "_view_count": null,
            "_view_module": "@jupyter-widgets/base",
            "_view_module_version": "1.2.0",
            "_view_name": "StyleView",
            "description_width": ""
          }
        },
        "2edc9e931aed4b98a7b5b07389f0e3c2": {
          "model_module": "@jupyter-widgets/controls",
          "model_name": "HBoxModel",
          "model_module_version": "1.5.0",
          "state": {
            "_dom_classes": [],
            "_model_module": "@jupyter-widgets/controls",
            "_model_module_version": "1.5.0",
            "_model_name": "HBoxModel",
            "_view_count": null,
            "_view_module": "@jupyter-widgets/controls",
            "_view_module_version": "1.5.0",
            "_view_name": "HBoxView",
            "box_style": "",
            "children": [
              "IPY_MODEL_e9cf816154f54131ab0d2d14113f63e2",
              "IPY_MODEL_943f57ceec4d47b886e7e83b0d5c1b1c",
              "IPY_MODEL_7f69445e52e449feb9ab593fa1ea15a5"
            ],
            "layout": "IPY_MODEL_df7208d912b74dfab5dedac32b2f4960"
          }
        },
        "e9cf816154f54131ab0d2d14113f63e2": {
          "model_module": "@jupyter-widgets/controls",
          "model_name": "HTMLModel",
          "model_module_version": "1.5.0",
          "state": {
            "_dom_classes": [],
            "_model_module": "@jupyter-widgets/controls",
            "_model_module_version": "1.5.0",
            "_model_name": "HTMLModel",
            "_view_count": null,
            "_view_module": "@jupyter-widgets/controls",
            "_view_module_version": "1.5.0",
            "_view_name": "HTMLView",
            "description": "",
            "description_tooltip": null,
            "layout": "IPY_MODEL_28fc6ff8bf2d44e6bf77295b5f7f0af4",
            "placeholder": "​",
            "style": "IPY_MODEL_3a6a18c4df384e6b9252d6071ef62bb2",
            "value": ""
          }
        },
        "943f57ceec4d47b886e7e83b0d5c1b1c": {
          "model_module": "@jupyter-widgets/controls",
          "model_name": "FloatProgressModel",
          "model_module_version": "1.5.0",
          "state": {
            "_dom_classes": [],
            "_model_module": "@jupyter-widgets/controls",
            "_model_module_version": "1.5.0",
            "_model_name": "FloatProgressModel",
            "_view_count": null,
            "_view_module": "@jupyter-widgets/controls",
            "_view_module_version": "1.5.0",
            "_view_name": "ProgressView",
            "bar_style": "success",
            "description": "",
            "description_tooltip": null,
            "layout": "IPY_MODEL_65b87875a4c047dbb81bf22540674fa8",
            "max": 1648877,
            "min": 0,
            "orientation": "horizontal",
            "style": "IPY_MODEL_ef5e8216817840ffb375f1e783be40f0",
            "value": 1648877
          }
        },
        "7f69445e52e449feb9ab593fa1ea15a5": {
          "model_module": "@jupyter-widgets/controls",
          "model_name": "HTMLModel",
          "model_module_version": "1.5.0",
          "state": {
            "_dom_classes": [],
            "_model_module": "@jupyter-widgets/controls",
            "_model_module_version": "1.5.0",
            "_model_name": "HTMLModel",
            "_view_count": null,
            "_view_module": "@jupyter-widgets/controls",
            "_view_module_version": "1.5.0",
            "_view_name": "HTMLView",
            "description": "",
            "description_tooltip": null,
            "layout": "IPY_MODEL_bf5a2dc6f82a4c239cca082920daeb9e",
            "placeholder": "​",
            "style": "IPY_MODEL_66e44ad786bb4317a28b28274589cdbe",
            "value": " 1649664/? [00:00&lt;00:00, 20733339.67it/s]"
          }
        },
        "df7208d912b74dfab5dedac32b2f4960": {
          "model_module": "@jupyter-widgets/base",
          "model_name": "LayoutModel",
          "model_module_version": "1.2.0",
          "state": {
            "_model_module": "@jupyter-widgets/base",
            "_model_module_version": "1.2.0",
            "_model_name": "LayoutModel",
            "_view_count": null,
            "_view_module": "@jupyter-widgets/base",
            "_view_module_version": "1.2.0",
            "_view_name": "LayoutView",
            "align_content": null,
            "align_items": null,
            "align_self": null,
            "border": null,
            "bottom": null,
            "display": null,
            "flex": null,
            "flex_flow": null,
            "grid_area": null,
            "grid_auto_columns": null,
            "grid_auto_flow": null,
            "grid_auto_rows": null,
            "grid_column": null,
            "grid_gap": null,
            "grid_row": null,
            "grid_template_areas": null,
            "grid_template_columns": null,
            "grid_template_rows": null,
            "height": null,
            "justify_content": null,
            "justify_items": null,
            "left": null,
            "margin": null,
            "max_height": null,
            "max_width": null,
            "min_height": null,
            "min_width": null,
            "object_fit": null,
            "object_position": null,
            "order": null,
            "overflow": null,
            "overflow_x": null,
            "overflow_y": null,
            "padding": null,
            "right": null,
            "top": null,
            "visibility": null,
            "width": null
          }
        },
        "28fc6ff8bf2d44e6bf77295b5f7f0af4": {
          "model_module": "@jupyter-widgets/base",
          "model_name": "LayoutModel",
          "model_module_version": "1.2.0",
          "state": {
            "_model_module": "@jupyter-widgets/base",
            "_model_module_version": "1.2.0",
            "_model_name": "LayoutModel",
            "_view_count": null,
            "_view_module": "@jupyter-widgets/base",
            "_view_module_version": "1.2.0",
            "_view_name": "LayoutView",
            "align_content": null,
            "align_items": null,
            "align_self": null,
            "border": null,
            "bottom": null,
            "display": null,
            "flex": null,
            "flex_flow": null,
            "grid_area": null,
            "grid_auto_columns": null,
            "grid_auto_flow": null,
            "grid_auto_rows": null,
            "grid_column": null,
            "grid_gap": null,
            "grid_row": null,
            "grid_template_areas": null,
            "grid_template_columns": null,
            "grid_template_rows": null,
            "height": null,
            "justify_content": null,
            "justify_items": null,
            "left": null,
            "margin": null,
            "max_height": null,
            "max_width": null,
            "min_height": null,
            "min_width": null,
            "object_fit": null,
            "object_position": null,
            "order": null,
            "overflow": null,
            "overflow_x": null,
            "overflow_y": null,
            "padding": null,
            "right": null,
            "top": null,
            "visibility": null,
            "width": null
          }
        },
        "3a6a18c4df384e6b9252d6071ef62bb2": {
          "model_module": "@jupyter-widgets/controls",
          "model_name": "DescriptionStyleModel",
          "model_module_version": "1.5.0",
          "state": {
            "_model_module": "@jupyter-widgets/controls",
            "_model_module_version": "1.5.0",
            "_model_name": "DescriptionStyleModel",
            "_view_count": null,
            "_view_module": "@jupyter-widgets/base",
            "_view_module_version": "1.2.0",
            "_view_name": "StyleView",
            "description_width": ""
          }
        },
        "65b87875a4c047dbb81bf22540674fa8": {
          "model_module": "@jupyter-widgets/base",
          "model_name": "LayoutModel",
          "model_module_version": "1.2.0",
          "state": {
            "_model_module": "@jupyter-widgets/base",
            "_model_module_version": "1.2.0",
            "_model_name": "LayoutModel",
            "_view_count": null,
            "_view_module": "@jupyter-widgets/base",
            "_view_module_version": "1.2.0",
            "_view_name": "LayoutView",
            "align_content": null,
            "align_items": null,
            "align_self": null,
            "border": null,
            "bottom": null,
            "display": null,
            "flex": null,
            "flex_flow": null,
            "grid_area": null,
            "grid_auto_columns": null,
            "grid_auto_flow": null,
            "grid_auto_rows": null,
            "grid_column": null,
            "grid_gap": null,
            "grid_row": null,
            "grid_template_areas": null,
            "grid_template_columns": null,
            "grid_template_rows": null,
            "height": null,
            "justify_content": null,
            "justify_items": null,
            "left": null,
            "margin": null,
            "max_height": null,
            "max_width": null,
            "min_height": null,
            "min_width": null,
            "object_fit": null,
            "object_position": null,
            "order": null,
            "overflow": null,
            "overflow_x": null,
            "overflow_y": null,
            "padding": null,
            "right": null,
            "top": null,
            "visibility": null,
            "width": null
          }
        },
        "ef5e8216817840ffb375f1e783be40f0": {
          "model_module": "@jupyter-widgets/controls",
          "model_name": "ProgressStyleModel",
          "model_module_version": "1.5.0",
          "state": {
            "_model_module": "@jupyter-widgets/controls",
            "_model_module_version": "1.5.0",
            "_model_name": "ProgressStyleModel",
            "_view_count": null,
            "_view_module": "@jupyter-widgets/base",
            "_view_module_version": "1.2.0",
            "_view_name": "StyleView",
            "bar_color": null,
            "description_width": ""
          }
        },
        "bf5a2dc6f82a4c239cca082920daeb9e": {
          "model_module": "@jupyter-widgets/base",
          "model_name": "LayoutModel",
          "model_module_version": "1.2.0",
          "state": {
            "_model_module": "@jupyter-widgets/base",
            "_model_module_version": "1.2.0",
            "_model_name": "LayoutModel",
            "_view_count": null,
            "_view_module": "@jupyter-widgets/base",
            "_view_module_version": "1.2.0",
            "_view_name": "LayoutView",
            "align_content": null,
            "align_items": null,
            "align_self": null,
            "border": null,
            "bottom": null,
            "display": null,
            "flex": null,
            "flex_flow": null,
            "grid_area": null,
            "grid_auto_columns": null,
            "grid_auto_flow": null,
            "grid_auto_rows": null,
            "grid_column": null,
            "grid_gap": null,
            "grid_row": null,
            "grid_template_areas": null,
            "grid_template_columns": null,
            "grid_template_rows": null,
            "height": null,
            "justify_content": null,
            "justify_items": null,
            "left": null,
            "margin": null,
            "max_height": null,
            "max_width": null,
            "min_height": null,
            "min_width": null,
            "object_fit": null,
            "object_position": null,
            "order": null,
            "overflow": null,
            "overflow_x": null,
            "overflow_y": null,
            "padding": null,
            "right": null,
            "top": null,
            "visibility": null,
            "width": null
          }
        },
        "66e44ad786bb4317a28b28274589cdbe": {
          "model_module": "@jupyter-widgets/controls",
          "model_name": "DescriptionStyleModel",
          "model_module_version": "1.5.0",
          "state": {
            "_model_module": "@jupyter-widgets/controls",
            "_model_module_version": "1.5.0",
            "_model_name": "DescriptionStyleModel",
            "_view_count": null,
            "_view_module": "@jupyter-widgets/base",
            "_view_module_version": "1.2.0",
            "_view_name": "StyleView",
            "description_width": ""
          }
        },
        "a4e3ff17c25448f797acf70d8aef55f2": {
          "model_module": "@jupyter-widgets/controls",
          "model_name": "HBoxModel",
          "model_module_version": "1.5.0",
          "state": {
            "_dom_classes": [],
            "_model_module": "@jupyter-widgets/controls",
            "_model_module_version": "1.5.0",
            "_model_name": "HBoxModel",
            "_view_count": null,
            "_view_module": "@jupyter-widgets/controls",
            "_view_module_version": "1.5.0",
            "_view_name": "HBoxView",
            "box_style": "",
            "children": [
              "IPY_MODEL_b211848f80874083b0e0dc4d09f0e53b",
              "IPY_MODEL_a2809fe6c2ec4f9594e78388de9a8201",
              "IPY_MODEL_131de924c6ea4fb6b3f00e1748968aab"
            ],
            "layout": "IPY_MODEL_d821132c181f4ed9a0fc9762677b667b"
          }
        },
        "b211848f80874083b0e0dc4d09f0e53b": {
          "model_module": "@jupyter-widgets/controls",
          "model_name": "HTMLModel",
          "model_module_version": "1.5.0",
          "state": {
            "_dom_classes": [],
            "_model_module": "@jupyter-widgets/controls",
            "_model_module_version": "1.5.0",
            "_model_name": "HTMLModel",
            "_view_count": null,
            "_view_module": "@jupyter-widgets/controls",
            "_view_module_version": "1.5.0",
            "_view_name": "HTMLView",
            "description": "",
            "description_tooltip": null,
            "layout": "IPY_MODEL_5bc72fa304014180b4ad4a8631e5564a",
            "placeholder": "​",
            "style": "IPY_MODEL_b0651e77727047d293cc15ddecb57849",
            "value": ""
          }
        },
        "a2809fe6c2ec4f9594e78388de9a8201": {
          "model_module": "@jupyter-widgets/controls",
          "model_name": "FloatProgressModel",
          "model_module_version": "1.5.0",
          "state": {
            "_dom_classes": [],
            "_model_module": "@jupyter-widgets/controls",
            "_model_module_version": "1.5.0",
            "_model_name": "FloatProgressModel",
            "_view_count": null,
            "_view_module": "@jupyter-widgets/controls",
            "_view_module_version": "1.5.0",
            "_view_name": "ProgressView",
            "bar_style": "success",
            "description": "",
            "description_tooltip": null,
            "layout": "IPY_MODEL_98e9a863d12b4ea5bd24f743e51ff088",
            "max": 4542,
            "min": 0,
            "orientation": "horizontal",
            "style": "IPY_MODEL_8bacc7388cad4239bc3b7c0dd1db6e25",
            "value": 4542
          }
        },
        "131de924c6ea4fb6b3f00e1748968aab": {
          "model_module": "@jupyter-widgets/controls",
          "model_name": "HTMLModel",
          "model_module_version": "1.5.0",
          "state": {
            "_dom_classes": [],
            "_model_module": "@jupyter-widgets/controls",
            "_model_module_version": "1.5.0",
            "_model_name": "HTMLModel",
            "_view_count": null,
            "_view_module": "@jupyter-widgets/controls",
            "_view_module_version": "1.5.0",
            "_view_name": "HTMLView",
            "description": "",
            "description_tooltip": null,
            "layout": "IPY_MODEL_0055aec0dfd343b38dbabb28454ce003",
            "placeholder": "​",
            "style": "IPY_MODEL_a47d8b08590a4e2aa415905f1c7b9901",
            "value": " 5120/? [00:00&lt;00:00, 82370.59it/s]"
          }
        },
        "d821132c181f4ed9a0fc9762677b667b": {
          "model_module": "@jupyter-widgets/base",
          "model_name": "LayoutModel",
          "model_module_version": "1.2.0",
          "state": {
            "_model_module": "@jupyter-widgets/base",
            "_model_module_version": "1.2.0",
            "_model_name": "LayoutModel",
            "_view_count": null,
            "_view_module": "@jupyter-widgets/base",
            "_view_module_version": "1.2.0",
            "_view_name": "LayoutView",
            "align_content": null,
            "align_items": null,
            "align_self": null,
            "border": null,
            "bottom": null,
            "display": null,
            "flex": null,
            "flex_flow": null,
            "grid_area": null,
            "grid_auto_columns": null,
            "grid_auto_flow": null,
            "grid_auto_rows": null,
            "grid_column": null,
            "grid_gap": null,
            "grid_row": null,
            "grid_template_areas": null,
            "grid_template_columns": null,
            "grid_template_rows": null,
            "height": null,
            "justify_content": null,
            "justify_items": null,
            "left": null,
            "margin": null,
            "max_height": null,
            "max_width": null,
            "min_height": null,
            "min_width": null,
            "object_fit": null,
            "object_position": null,
            "order": null,
            "overflow": null,
            "overflow_x": null,
            "overflow_y": null,
            "padding": null,
            "right": null,
            "top": null,
            "visibility": null,
            "width": null
          }
        },
        "5bc72fa304014180b4ad4a8631e5564a": {
          "model_module": "@jupyter-widgets/base",
          "model_name": "LayoutModel",
          "model_module_version": "1.2.0",
          "state": {
            "_model_module": "@jupyter-widgets/base",
            "_model_module_version": "1.2.0",
            "_model_name": "LayoutModel",
            "_view_count": null,
            "_view_module": "@jupyter-widgets/base",
            "_view_module_version": "1.2.0",
            "_view_name": "LayoutView",
            "align_content": null,
            "align_items": null,
            "align_self": null,
            "border": null,
            "bottom": null,
            "display": null,
            "flex": null,
            "flex_flow": null,
            "grid_area": null,
            "grid_auto_columns": null,
            "grid_auto_flow": null,
            "grid_auto_rows": null,
            "grid_column": null,
            "grid_gap": null,
            "grid_row": null,
            "grid_template_areas": null,
            "grid_template_columns": null,
            "grid_template_rows": null,
            "height": null,
            "justify_content": null,
            "justify_items": null,
            "left": null,
            "margin": null,
            "max_height": null,
            "max_width": null,
            "min_height": null,
            "min_width": null,
            "object_fit": null,
            "object_position": null,
            "order": null,
            "overflow": null,
            "overflow_x": null,
            "overflow_y": null,
            "padding": null,
            "right": null,
            "top": null,
            "visibility": null,
            "width": null
          }
        },
        "b0651e77727047d293cc15ddecb57849": {
          "model_module": "@jupyter-widgets/controls",
          "model_name": "DescriptionStyleModel",
          "model_module_version": "1.5.0",
          "state": {
            "_model_module": "@jupyter-widgets/controls",
            "_model_module_version": "1.5.0",
            "_model_name": "DescriptionStyleModel",
            "_view_count": null,
            "_view_module": "@jupyter-widgets/base",
            "_view_module_version": "1.2.0",
            "_view_name": "StyleView",
            "description_width": ""
          }
        },
        "98e9a863d12b4ea5bd24f743e51ff088": {
          "model_module": "@jupyter-widgets/base",
          "model_name": "LayoutModel",
          "model_module_version": "1.2.0",
          "state": {
            "_model_module": "@jupyter-widgets/base",
            "_model_module_version": "1.2.0",
            "_model_name": "LayoutModel",
            "_view_count": null,
            "_view_module": "@jupyter-widgets/base",
            "_view_module_version": "1.2.0",
            "_view_name": "LayoutView",
            "align_content": null,
            "align_items": null,
            "align_self": null,
            "border": null,
            "bottom": null,
            "display": null,
            "flex": null,
            "flex_flow": null,
            "grid_area": null,
            "grid_auto_columns": null,
            "grid_auto_flow": null,
            "grid_auto_rows": null,
            "grid_column": null,
            "grid_gap": null,
            "grid_row": null,
            "grid_template_areas": null,
            "grid_template_columns": null,
            "grid_template_rows": null,
            "height": null,
            "justify_content": null,
            "justify_items": null,
            "left": null,
            "margin": null,
            "max_height": null,
            "max_width": null,
            "min_height": null,
            "min_width": null,
            "object_fit": null,
            "object_position": null,
            "order": null,
            "overflow": null,
            "overflow_x": null,
            "overflow_y": null,
            "padding": null,
            "right": null,
            "top": null,
            "visibility": null,
            "width": null
          }
        },
        "8bacc7388cad4239bc3b7c0dd1db6e25": {
          "model_module": "@jupyter-widgets/controls",
          "model_name": "ProgressStyleModel",
          "model_module_version": "1.5.0",
          "state": {
            "_model_module": "@jupyter-widgets/controls",
            "_model_module_version": "1.5.0",
            "_model_name": "ProgressStyleModel",
            "_view_count": null,
            "_view_module": "@jupyter-widgets/base",
            "_view_module_version": "1.2.0",
            "_view_name": "StyleView",
            "bar_color": null,
            "description_width": ""
          }
        },
        "0055aec0dfd343b38dbabb28454ce003": {
          "model_module": "@jupyter-widgets/base",
          "model_name": "LayoutModel",
          "model_module_version": "1.2.0",
          "state": {
            "_model_module": "@jupyter-widgets/base",
            "_model_module_version": "1.2.0",
            "_model_name": "LayoutModel",
            "_view_count": null,
            "_view_module": "@jupyter-widgets/base",
            "_view_module_version": "1.2.0",
            "_view_name": "LayoutView",
            "align_content": null,
            "align_items": null,
            "align_self": null,
            "border": null,
            "bottom": null,
            "display": null,
            "flex": null,
            "flex_flow": null,
            "grid_area": null,
            "grid_auto_columns": null,
            "grid_auto_flow": null,
            "grid_auto_rows": null,
            "grid_column": null,
            "grid_gap": null,
            "grid_row": null,
            "grid_template_areas": null,
            "grid_template_columns": null,
            "grid_template_rows": null,
            "height": null,
            "justify_content": null,
            "justify_items": null,
            "left": null,
            "margin": null,
            "max_height": null,
            "max_width": null,
            "min_height": null,
            "min_width": null,
            "object_fit": null,
            "object_position": null,
            "order": null,
            "overflow": null,
            "overflow_x": null,
            "overflow_y": null,
            "padding": null,
            "right": null,
            "top": null,
            "visibility": null,
            "width": null
          }
        },
        "a47d8b08590a4e2aa415905f1c7b9901": {
          "model_module": "@jupyter-widgets/controls",
          "model_name": "DescriptionStyleModel",
          "model_module_version": "1.5.0",
          "state": {
            "_model_module": "@jupyter-widgets/controls",
            "_model_module_version": "1.5.0",
            "_model_name": "DescriptionStyleModel",
            "_view_count": null,
            "_view_module": "@jupyter-widgets/base",
            "_view_module_version": "1.2.0",
            "_view_name": "StyleView",
            "description_width": ""
          }
        }
      }
    }
  },
  "cells": [
    {
      "cell_type": "markdown",
      "metadata": {
        "id": "view-in-github",
        "colab_type": "text"
      },
      "source": [
        "<a href=\"https://colab.research.google.com/github/MariaSun/Simple_cpp_nn/blob/main/mnist_gen1_5_Shurui.ipynb\" target=\"_parent\"><img src=\"https://colab.research.google.com/assets/colab-badge.svg\" alt=\"Open In Colab\"/></a>"
      ]
    },
    {
      "cell_type": "code",
      "metadata": {
        "id": "mdg3KtKw7sDc"
      },
      "source": [
        "import numpy as np # to handle matrix and data operation\n",
        "import pandas as pd # to read csv and handle dataframe\n",
        "from scipy import signal\n",
        "from scipy import misc\n",
        "import time\n",
        "import torch\n",
        "import torch.nn as nn\n",
        "import torch.nn.functional as F\n",
        "import torch.utils.data\n",
        "from torch.autograd import Variable\n",
        "import torchvision\n",
        "import torchvision.transforms as transforms\n",
        "from torchvision.transforms import Compose\n",
        "from sklearn.model_selection import train_test_split\n",
        "import matplotlib.pyplot as plt\n",
        "\n",
        "from pylab import *\n",
        "import tensorflow as tf"
      ],
      "execution_count": 5,
      "outputs": []
    },
    {
      "cell_type": "code",
      "metadata": {
        "colab": {
          "base_uri": "https://localhost:8080/"
        },
        "id": "QDljiKBQDIxq",
        "outputId": "bd17db69-2704-4719-c66b-21996d26fee4"
      },
      "source": [
        "torch.cuda.is_available()"
      ],
      "execution_count": 6,
      "outputs": [
        {
          "output_type": "execute_result",
          "data": {
            "text/plain": [
              "True"
            ]
          },
          "metadata": {},
          "execution_count": 6
        }
      ]
    },
    {
      "cell_type": "code",
      "metadata": {
        "colab": {
          "base_uri": "https://localhost:8080/",
          "height": 37
        },
        "id": "KJghSdKaFLoh",
        "outputId": "a6415b27-38d4-4b1f-fde4-c98d204d0d9f"
      },
      "source": [
        "'''torch.cuda.set_device(0)\n",
        "torch.set_default_tensor_type('torch.cuda.FloatTensor')'''"
      ],
      "execution_count": 7,
      "outputs": [
        {
          "output_type": "execute_result",
          "data": {
            "text/plain": [
              "\"torch.cuda.set_device(0)\\ntorch.set_default_tensor_type('torch.cuda.FloatTensor')\""
            ],
            "application/vnd.google.colaboratory.intrinsic+json": {
              "type": "string"
            }
          },
          "metadata": {},
          "execution_count": 7
        }
      ]
    },
    {
      "cell_type": "markdown",
      "metadata": {
        "id": "9y0OKixS72DZ"
      },
      "source": [
        "Import dataset (MNIST)"
      ]
    },
    {
      "cell_type": "code",
      "metadata": {
        "colab": {
          "base_uri": "https://localhost:8080/",
          "height": 505,
          "referenced_widgets": [
            "084071547c384bf5b596b5d0eec5fb21",
            "a645e95885b645c1a058b2bde9e1b70a",
            "0c0874c41a84490e81b0cf6fd1431072",
            "4ee508bfe94b48a2b80284f78dddcfe5",
            "3b7284b9c3874d319d83bfccc00e4747",
            "3e3bf88e53ce428893d3db155c07f26a",
            "3dde77ffc4974762abba397ba4937e61",
            "1715128449cd49a79480bc2c256a7989",
            "4543eabd71ab4304a2b7d6a94d3178b8",
            "e63e25bbf24a4bf7ba9a911f314b8286",
            "d8cc9aef72554d19b019f003a35ac07a",
            "13e5606cf0f940f18878f519012b502d",
            "0564868c87894222aec57014bf51cfbb",
            "4e5dc4f36bd24acd87d2a2289ee4681a",
            "fdce2e25a72d4135baf1c1531866fa9e",
            "839944aa3a784497a8cae3802063f2bf",
            "6b55d8853ca146adbe7303acbbe108dc",
            "b8bf719a8dc54c5fb2e3336edab7ed48",
            "f0abc55fb62b4a73a98dc855769e0f39",
            "7d8f35469a254aff8faacb4b6d3d1759",
            "cf745d5357cd4aa381de8aef5f666134",
            "1fbaa1fd91df424cb8129abff390b920",
            "2edc9e931aed4b98a7b5b07389f0e3c2",
            "e9cf816154f54131ab0d2d14113f63e2",
            "943f57ceec4d47b886e7e83b0d5c1b1c",
            "7f69445e52e449feb9ab593fa1ea15a5",
            "df7208d912b74dfab5dedac32b2f4960",
            "28fc6ff8bf2d44e6bf77295b5f7f0af4",
            "3a6a18c4df384e6b9252d6071ef62bb2",
            "65b87875a4c047dbb81bf22540674fa8",
            "ef5e8216817840ffb375f1e783be40f0",
            "bf5a2dc6f82a4c239cca082920daeb9e",
            "66e44ad786bb4317a28b28274589cdbe",
            "a4e3ff17c25448f797acf70d8aef55f2",
            "b211848f80874083b0e0dc4d09f0e53b",
            "a2809fe6c2ec4f9594e78388de9a8201",
            "131de924c6ea4fb6b3f00e1748968aab",
            "d821132c181f4ed9a0fc9762677b667b",
            "5bc72fa304014180b4ad4a8631e5564a",
            "b0651e77727047d293cc15ddecb57849",
            "98e9a863d12b4ea5bd24f743e51ff088",
            "8bacc7388cad4239bc3b7c0dd1db6e25",
            "0055aec0dfd343b38dbabb28454ce003",
            "a47d8b08590a4e2aa415905f1c7b9901"
          ]
        },
        "id": "XTCKeZr-7yDi",
        "outputId": "81135b9c-80b5-4eb8-95c9-181016118eb3"
      },
      "source": [
        "BATCH_SIZE = 64\n",
        "\n",
        "transform = transforms.Compose(\n",
        "    [transforms.ToTensor()])\n",
        "\n",
        "train_transform = Compose([\n",
        "    transforms.RandomHorizontalFlip(p=0.5),\n",
        "    transforms.RandomCrop(32, padding=4),\n",
        "    transforms.ToTensor(),\n",
        "    #transforms.Normalize([0, 0, 0], [1, 1, 1])\n",
        "])\n",
        "\n",
        "test_transform = Compose([\n",
        "    transforms.ToTensor(),\n",
        "    #transforms.Normalize([0, 0, 0], [1, 1, 1])\n",
        "])\n",
        "\n",
        "trainset = torchvision.datasets.MNIST(root='./data', train=True,\n",
        "                                        download=True, transform=transform)\n",
        "trainloader = torch.utils.data.DataLoader(trainset, batch_size=BATCH_SIZE,drop_last=True,\n",
        "                                          shuffle=True, num_workers=2)\n",
        "\n",
        "testset = torchvision.datasets.MNIST(root='./data', train=False,\n",
        "                                       download=True, transform=transform)\n",
        "testloader = torch.utils.data.DataLoader(testset, batch_size=BATCH_SIZE,drop_last=True,\n",
        "                                         shuffle=False, num_workers=2)\n",
        "\n",
        "classes = ('0', '1', '2', '3',\n",
        "           '4', '5', '6', '7', '8', '9')\n",
        "'''\n",
        "trainset = torchvision.datasets.CIFAR10(root='./data', train=True, transform=train_transform, target_transform=None, download=True)\n",
        "\n",
        "trainloader = torch.utils.data.DataLoader(trainset, batch_size=BATCH_SIZE,drop_last=True,\n",
        "                                          shuffle=True, pin_memory=False, num_workers=8)\n",
        "\n",
        "testset = torchvision.datasets.CIFAR10(root='./data', train=False, transform=test_transform, target_transform=None, download=True)\n",
        "testloader = torch.utils.data.DataLoader(testset, batch_size=BATCH_SIZE,drop_last=True,\n",
        "                                         shuffle=False, pin_memory=False, num_workers=8)\n",
        "'''                                         \n"
      ],
      "execution_count": 8,
      "outputs": [
        {
          "output_type": "stream",
          "name": "stdout",
          "text": [
            "Downloading http://yann.lecun.com/exdb/mnist/train-images-idx3-ubyte.gz\n",
            "Downloading http://yann.lecun.com/exdb/mnist/train-images-idx3-ubyte.gz to ./data/MNIST/raw/train-images-idx3-ubyte.gz\n"
          ]
        },
        {
          "output_type": "display_data",
          "data": {
            "text/plain": [
              "  0%|          | 0/9912422 [00:00<?, ?it/s]"
            ],
            "application/vnd.jupyter.widget-view+json": {
              "version_major": 2,
              "version_minor": 0,
              "model_id": "084071547c384bf5b596b5d0eec5fb21"
            }
          },
          "metadata": {}
        },
        {
          "output_type": "stream",
          "name": "stdout",
          "text": [
            "Extracting ./data/MNIST/raw/train-images-idx3-ubyte.gz to ./data/MNIST/raw\n",
            "\n",
            "Downloading http://yann.lecun.com/exdb/mnist/train-labels-idx1-ubyte.gz\n",
            "Downloading http://yann.lecun.com/exdb/mnist/train-labels-idx1-ubyte.gz to ./data/MNIST/raw/train-labels-idx1-ubyte.gz\n"
          ]
        },
        {
          "output_type": "display_data",
          "data": {
            "text/plain": [
              "  0%|          | 0/28881 [00:00<?, ?it/s]"
            ],
            "application/vnd.jupyter.widget-view+json": {
              "version_major": 2,
              "version_minor": 0,
              "model_id": "13e5606cf0f940f18878f519012b502d"
            }
          },
          "metadata": {}
        },
        {
          "output_type": "stream",
          "name": "stdout",
          "text": [
            "Extracting ./data/MNIST/raw/train-labels-idx1-ubyte.gz to ./data/MNIST/raw\n",
            "\n",
            "Downloading http://yann.lecun.com/exdb/mnist/t10k-images-idx3-ubyte.gz\n",
            "Downloading http://yann.lecun.com/exdb/mnist/t10k-images-idx3-ubyte.gz to ./data/MNIST/raw/t10k-images-idx3-ubyte.gz\n"
          ]
        },
        {
          "output_type": "display_data",
          "data": {
            "text/plain": [
              "  0%|          | 0/1648877 [00:00<?, ?it/s]"
            ],
            "application/vnd.jupyter.widget-view+json": {
              "version_major": 2,
              "version_minor": 0,
              "model_id": "2edc9e931aed4b98a7b5b07389f0e3c2"
            }
          },
          "metadata": {}
        },
        {
          "output_type": "stream",
          "name": "stdout",
          "text": [
            "Extracting ./data/MNIST/raw/t10k-images-idx3-ubyte.gz to ./data/MNIST/raw\n",
            "\n",
            "Downloading http://yann.lecun.com/exdb/mnist/t10k-labels-idx1-ubyte.gz\n",
            "Downloading http://yann.lecun.com/exdb/mnist/t10k-labels-idx1-ubyte.gz to ./data/MNIST/raw/t10k-labels-idx1-ubyte.gz\n"
          ]
        },
        {
          "output_type": "display_data",
          "data": {
            "text/plain": [
              "  0%|          | 0/4542 [00:00<?, ?it/s]"
            ],
            "application/vnd.jupyter.widget-view+json": {
              "version_major": 2,
              "version_minor": 0,
              "model_id": "a4e3ff17c25448f797acf70d8aef55f2"
            }
          },
          "metadata": {}
        },
        {
          "output_type": "stream",
          "name": "stdout",
          "text": [
            "Extracting ./data/MNIST/raw/t10k-labels-idx1-ubyte.gz to ./data/MNIST/raw\n",
            "\n"
          ]
        },
        {
          "output_type": "execute_result",
          "data": {
            "text/plain": [
              "\"\\ntrainset = torchvision.datasets.CIFAR10(root='./data', train=True, transform=train_transform, target_transform=None, download=True)\\n\\ntrainloader = torch.utils.data.DataLoader(trainset, batch_size=BATCH_SIZE,drop_last=True,\\n                                          shuffle=True, pin_memory=False, num_workers=8)\\n\\ntestset = torchvision.datasets.CIFAR10(root='./data', train=False, transform=test_transform, target_transform=None, download=True)\\ntestloader = torch.utils.data.DataLoader(testset, batch_size=BATCH_SIZE,drop_last=True,\\n                                         shuffle=False, pin_memory=False, num_workers=8)\\n\""
            ],
            "application/vnd.google.colaboratory.intrinsic+json": {
              "type": "string"
            }
          },
          "metadata": {},
          "execution_count": 8
        }
      ]
    },
    {
      "cell_type": "markdown",
      "metadata": {
        "id": "BcvDoyHi8E5d"
      },
      "source": [
        "Define the network structure"
      ]
    },
    {
      "cell_type": "code",
      "metadata": {
        "colab": {
          "base_uri": "https://localhost:8080/"
        },
        "id": "R3lg2K4Q95qV",
        "outputId": "7ca50a1e-d4ea-451a-f425-d560f15cf2a6"
      },
      "source": [
        "device = torch.device(\"cuda:0\")\n",
        "gpu_info = !nvidia-smi\n",
        "gpu_info = '\\n'.join(gpu_info)\n",
        "if gpu_info.find('failed') >= 0:\n",
        "  print('Select the Runtime → \"Change runtime type\" menu to enable a GPU accelerator, ')\n",
        "  print('and then re-execute this cell.')\n",
        "else:\n",
        "  print(gpu_info)"
      ],
      "execution_count": 9,
      "outputs": [
        {
          "output_type": "stream",
          "name": "stdout",
          "text": [
            "Wed Apr  6 20:44:04 2022       \n",
            "+-----------------------------------------------------------------------------+\n",
            "| NVIDIA-SMI 460.32.03    Driver Version: 460.32.03    CUDA Version: 11.2     |\n",
            "|-------------------------------+----------------------+----------------------+\n",
            "| GPU  Name        Persistence-M| Bus-Id        Disp.A | Volatile Uncorr. ECC |\n",
            "| Fan  Temp  Perf  Pwr:Usage/Cap|         Memory-Usage | GPU-Util  Compute M. |\n",
            "|                               |                      |               MIG M. |\n",
            "|===============================+======================+======================|\n",
            "|   0  Tesla K80           Off  | 00000000:00:04.0 Off |                    0 |\n",
            "| N/A   33C    P8    28W / 149W |      3MiB / 11441MiB |      0%      Default |\n",
            "|                               |                      |                  N/A |\n",
            "+-------------------------------+----------------------+----------------------+\n",
            "                                                                               \n",
            "+-----------------------------------------------------------------------------+\n",
            "| Processes:                                                                  |\n",
            "|  GPU   GI   CI        PID   Type   Process name                  GPU Memory |\n",
            "|        ID   ID                                                   Usage      |\n",
            "|=============================================================================|\n",
            "|  No running processes found                                                 |\n",
            "+-----------------------------------------------------------------------------+\n"
          ]
        }
      ]
    },
    {
      "cell_type": "code",
      "metadata": {
        "id": "hvD1VXi8I-D3"
      },
      "source": [
        "def test():\n",
        "  correct = 0\n",
        "  total = 0\n",
        "  with torch.no_grad():\n",
        "      for data in testloader:\n",
        "          images, labels = data\n",
        "          # imshow(data[0][0][0])\n",
        "          # plt.show(data[1][0])\n",
        "          # print(data)\n",
        "          # print('____________')\n",
        "          images, labels = images.to(device), labels.to(device)\n",
        "          outputs = net(images)\n",
        "          _, predicted = torch.max(outputs.data, 1)\n",
        "          total += labels.size(0)\n",
        "          correct += (predicted == labels).sum().item()\n",
        "\n",
        "  print('Accuracy of the network on the 10000 test images: %f %%' % (\n",
        "      100 * correct / total))"
      ],
      "execution_count": 10,
      "outputs": []
    },
    {
      "cell_type": "code",
      "source": [
        "pip install torchshow"
      ],
      "metadata": {
        "colab": {
          "base_uri": "https://localhost:8080/"
        },
        "id": "N6l5kFxIET2-",
        "outputId": "e91bb047-69a2-49c4-e303-032482e7a96e"
      },
      "execution_count": 11,
      "outputs": [
        {
          "output_type": "stream",
          "name": "stdout",
          "text": [
            "Collecting torchshow\n",
            "  Downloading torchshow-0.3.2-py3-none-any.whl (12 kB)\n",
            "Installing collected packages: torchshow\n",
            "Successfully installed torchshow-0.3.2\n"
          ]
        }
      ]
    },
    {
      "cell_type": "code",
      "source": [
        "import torch.nn as nn\n",
        "import torch.nn.functional as F\n",
        "import math\n",
        "import torch\n",
        "from torch.nn.parameter import Parameter\n",
        "from torch.nn import init\n",
        "from torch.nn.modules import Module\n",
        "from torch.nn.modules.utils import _single, _pair, _triple\n",
        "\n",
        "import torchshow as ts\n",
        "\n",
        "class _ConvNd(Module):\n",
        "\n",
        "    __constants__ = ['stride', 'padding', 'dilation', 'groups', 'bias',\n",
        "                     'padding_mode', 'output_padding', 'in_channels',\n",
        "                     'out_channels', 'kernel_size']   \n",
        "\n",
        "    def __init__(self, in_channels, out_channels, kernel_size, batch_size, stride,\n",
        "                 padding, dilation, transposed, output_padding,\n",
        "                 groups, bias, padding_mode):\n",
        "        super(_ConvNd, self).__init__()\n",
        "        if in_channels % groups != 0:\n",
        "            raise ValueError('in_channels must be divisible by groups')\n",
        "        if out_channels % groups != 0:\n",
        "            raise ValueError('out_channels must be divisible by groups')\n",
        "        self.in_channels = in_channels\n",
        "        self.out_channels = out_channels\n",
        "        self.kernel_size = kernel_size\n",
        "        self.batch_size = batch_size\n",
        "        self.stride = stride\n",
        "        self.padding = padding\n",
        "        self.dilation = dilation\n",
        "        self.transposed = transposed\n",
        "        self.output_padding = output_padding\n",
        "        self.groups = groups\n",
        "        self.padding_mode = padding_mode\n",
        "        if transposed:\n",
        "            self.weight = Parameter(torch.Tensor(\n",
        "                in_channels, out_channels // groups, *kernel_size))\n",
        "        else:\n",
        "            self.weight = Parameter(torch.Tensor(\n",
        "                out_channels, in_channels // groups, *kernel_size))\n",
        "        if bias:\n",
        "            self.bias = Parameter(torch.Tensor(out_channels))\n",
        "        else:\n",
        "            self.register_parameter('bias', None)\n",
        "        self.reset_parameters()\n",
        "\n",
        "    def reset_parameters(self):\n",
        "        #init.kaiming_uniform_(self.weight, a=math.sqrt(5))\n",
        "        init.kaiming_normal_(self.weight, a=math.sqrt(5))\n",
        "        if self.bias is not None:\n",
        "            fan_in, _ = init._calculate_fan_in_and_fan_out(self.weight)\n",
        "            bound = 1 / math.sqrt(fan_in)\n",
        "            init.uniform_(self.bias, -bound, bound)\n",
        "\n",
        "    def extra_repr(self):\n",
        "        s = ('{in_channels}, {out_channels}, kernel_size={kernel_size}'\n",
        "             ', stride={stride}')\n",
        "        if self.padding != (0,) * len(self.padding):\n",
        "            s += ', padding={padding}'\n",
        "        if self.dilation != (1,) * len(self.dilation):\n",
        "            s += ', dilation={dilation}'\n",
        "        if self.output_padding != (0,) * len(self.output_padding):\n",
        "            s += ', output_padding={output_padding}'\n",
        "        if self.groups != 1:\n",
        "            s += ', groups={groups}'\n",
        "        if self.bias is None:\n",
        "            s += ', bias=False'\n",
        "        return s.format(**self.__dict__)\n",
        "\n",
        "    def __setstate__(self, state):\n",
        "        super(_ConvNd, self).__setstate__(state)\n",
        "        if not hasattr(self, 'padding_mode'):\n",
        "            self.padding_mode = 'zeros'\n",
        "\n",
        "class FTconvlayer(_ConvNd):\n",
        "    def __init__(self, in_channels, out_channels, kernel_size, batch_size = 16, stride=1,\n",
        "                 padding=0, dilation=1, groups=1,\n",
        "                 bias=True, padding_mode='zeros'):\n",
        "        batch_size = BATCH_SIZE\n",
        "        kernel_size = _pair(kernel_size) \n",
        "        stride = _pair(stride)\n",
        "        padding = _pair(padding)\n",
        "        dilation = _pair(dilation)\n",
        "        super(FTconvlayer, self).__init__(\n",
        "            in_channels, out_channels, kernel_size, batch_size, stride, padding, dilation,\n",
        "            False, _pair(0), groups, bias, padding_mode)\n",
        "\n",
        "    def quantization_n(self, input, n = 1, max = 1):\n",
        "      intv = max/(2**n-1)\n",
        "      qunt = torch.ceil(torch.mul(input,(1/intv)))  #***use ceil instead of floor for small value of n to make sure that not all weights are modified to zero in the beginning, achieves good accuracy for small n\n",
        "      #the above line divide the whole tensor by the smallest interval (1/2**n-1), which is same as multiply with 2**n-1, then take the floor and finally multiply the whole tensor with the smallest interval\n",
        "      out = torch.mul(qunt,intv)\n",
        "      out = torch.clamp(out, min=0, max=max) #make sure the quantized version lies in the interval 0-1, if it's bigger than one just clamp it at one\n",
        "      return(out)  \n",
        "\n",
        "    def make_complex(self, x):  #converts a real tensor into complex form by adding one extra dimension to it\n",
        "        #x_i = torch.zeros(x.shape)\n",
        "        x_i = torch.cuda.FloatTensor(x.shape).fill_(0)\n",
        "        y = torch.stack((x,x_i),-1)\n",
        "        return torch.view_as_complex(y)\n",
        "\n",
        "    def neg_complex_exp(self, x):    #since pytorch does not support complex exponential, implemented using euler formula exp(-jx)=cos(-x)+jsin(-x)\n",
        "        x_cos = torch.cos(-x)\n",
        "        x_sin = torch.sin(-x)\n",
        "        x_euler = torch.stack((x_cos, x_sin), -1)\n",
        "        return torch.view_as_complex(x_euler)\n",
        "\n",
        "    def complex_mul(self, x,y):  #this implementation should support broadcasting \n",
        "        result = x*y\n",
        "        return result\n",
        "\n",
        "    def conj_transpose(self, x):  #should support broadcasting\n",
        "        x = torch.view_as_real(x)\n",
        "        size = len(x.size())\n",
        "        x_r = x[...,0]\n",
        "        x_i = x[...,1]\n",
        "        x_i_c =-x_i\n",
        "        x_conj = torch.stack((x_r,x_i_c),-1)\n",
        "        x_conj_t = torch.transpose(x_conj, size-3, size-2)#size-1 is the dimension for complex representation\n",
        "        return torch.view_as_complex(x_conj_t)\n",
        "\n",
        "    def roll_n(self, X, axis, n):\n",
        "        f_idx = tuple(slice(None, None, None) if i != axis else slice(0, n, None) for i in range(X.dim()))\n",
        "        b_idx = tuple(slice(None, None, None) if i != axis else slice(n, None, None) for i in range(X.dim()))\n",
        "        front = X[f_idx]\n",
        "        back = X[b_idx]\n",
        "        return torch.cat([back, front], axis)   \n",
        "\n",
        "\n",
        "    def propTF(self, u1,L,lambdaa,z):\n",
        "        batch,M,N = u1.shape\n",
        "        dx = L/M\n",
        "        fx = torch.arange(-1/(2*dx),1/(2*dx), 1/L).cuda()\n",
        "        FX,FY = torch.meshgrid(fx,fx)\n",
        "        #H = torch.exp(-1j*math.pi*lambdaa*z*(FX**2+FY**2))\n",
        "        H = self.neg_complex_exp(math.pi*lambdaa*z*(FX**2+FY**2))\n",
        "        #H = self.batch_fftshift2d(H)\n",
        "        H = torch.fft.fftshift(H)\n",
        "        U1 = torch.fft.fft2(torch.fft.fftshift(u1)) #so the U1's dimension is 4, H is 3 so complex_mul needs to support broadcasting\n",
        "        U2 = self.complex_mul(H,U1)\n",
        "        u2 = torch.fft.ifftshift(torch.fft.ifft2(U2)) #this step is redundent, can be removed in actual implementation\n",
        "        return u2\n",
        "\n",
        "\n",
        "    def seidel_5(self, u0, v0, X, Y, wd, w040, w131, w222, w220, w311):\n",
        "        beta = math.atan2(u0,v0)\n",
        "        u0r=math.sqrt(u0**2+v0**2)\n",
        "        Xr=X*math.cos(beta)+Y*math.sin(beta)\n",
        "        Yr=-X*math.sin(beta)+Y*math.cos(beta)\n",
        "        rho2=Xr**2+Yr**2\n",
        "        w=wd*rho2+w040*rho2**2+w131*u0r*rho2*Xr+ w222*u0r**2*Xr**2+w220*u0r**2*rho2+w311*math.pow(u0r,3)*Xr\n",
        "        return w\n",
        "\n",
        "    def circ(self, r):\n",
        "        out = torch.abs(r)<=1\n",
        "        return out\n",
        "    \n",
        "    def input_pad(self,input,padsize):\n",
        "      input_size = input.shape[2]\n",
        "      pad_size_x = int((padsize-input_size)/2)\n",
        "      pad_size_y = int((padsize-input_size)/2)\n",
        "      p2d = (pad_size_x, pad_size_y, pad_size_x, pad_size_y)\n",
        "      input_pad = F.pad(input, p2d, \"constant\", 0)\n",
        "      return input_pad \n",
        "\n",
        "\n",
        "    def kernel_hpf_even(self, input, amount):\n",
        "      # make the center part of the weight to be zero and make the filter symmetrical\n",
        "      # This function should be placed before quantization\n",
        "      # amount is the size of the area that are set to 0\n",
        "      mid = int(input.shape[2]/2)\n",
        "      input[:,mid-amount:mid+amount,mid-amount:mid+amount] = 0 #set the center part to be zero\n",
        "\n",
        "      input_transpose = torch.transpose(input, 1,2)\n",
        "      input = (input + input_transpose)/2\n",
        "      #even = input\n",
        "      return input\n",
        "\n",
        "    def accurate_model_forward(self, input, weight):\n",
        "        err = 1e-8 #define a very small error term to aviod nan loss due to abs\n",
        "        res = input.shape[2]\n",
        "        xx = res\n",
        "        yy = xx \n",
        "        w = res    \n",
        "        n_filter_actual = int(self.out_channels/2)\n",
        "        output_full = torch.cuda.FloatTensor(BATCH_SIZE,self.out_channels,w,w).fill_(0)\n",
        "        output_sub = torch.cuda.FloatTensor(BATCH_SIZE, int(self.out_channels/2), w, w).fill_(0)\n",
        "        # Define unit matrix DMD \n",
        "        '''unitmatrix = torch.cuda.FloatTensor(17, 17).fill_(0)\n",
        "        unitmatrix[1:16,1:16]=1\n",
        "        unitmatrix[7:10,7:10]=0\n",
        "        idledmd = unitmatrix.repeat(xx,yy)\n",
        "        '''\n",
        "        idledmd = torch.cuda.FloatTensor(res, res).fill_(1)\n",
        "        M,N = idledmd.shape\n",
        "        L1=1.90e-2*xx/res\n",
        "        L2=1.09e-2*yy/res\n",
        "        du=L1/M\n",
        "        dv=L2/N\n",
        "        lambdaa = 0.633e-6\n",
        "        k=2*math.pi/lambdaa\n",
        "        \n",
        "        '''Lens Diffraction (Aperture) and Aberration'''\n",
        "        fu = torch.arange(-1/(2*du),1/(2*du),1/L1)\n",
        "        fv = torch.arange(-1/(2*dv),1/(2*dv),1/L2)\n",
        "        Dxp = 5e-2\n",
        "        wxp = Dxp/2\n",
        "        zxp = 200e-3\n",
        "        lz = lambdaa*zxp\n",
        "        u0 = 0\n",
        "        v0 = 0\n",
        "        f0 = wxp/(lambdaa*zxp)\n",
        "        '''Lens parameter for aberration (Seidel coefficients), wavefront alteration from spherical waves'''\n",
        "        wd=0*lambdaa\n",
        "        w040=4.963*lambdaa\n",
        "        w131=2.637*lambdaa\n",
        "        w222=9.025*lambdaa\n",
        "        w220=7.536*2*lambdaa\n",
        "        w311=0.157*12*lambdaa\n",
        "        \n",
        "        Fu,Fv = torch.meshgrid(fu,fv)\n",
        "        Fu = torch.transpose(Fu,0,1)\n",
        "        Fv = torch.transpose(Fv,0,1)\n",
        "        W = self.seidel_5(u0,v0,-lz*Fu/wxp,-lz*Fv/wxp,wd,w040,w131,w222,w220,w311).cuda() #same as the matlab calculation\n",
        "        H = self.complex_mul(self.make_complex(self.circ(torch.sqrt(Fu**2 + Fv**2)/f0).float().cuda()),self.neg_complex_exp(k*W))# lens? \n",
        "#-----------------------from here is the actual training, before the loop is basically constants/parameters genreation, which does not needs to be backproped     \n",
        "        for c_in in range(input.shape[1]): # iters for number of input channels\n",
        "            signal = input[:,c_in,:,:] #the dimension of signal is 3, with one batch dimension\n",
        "\n",
        "            # ts.show(signal[0])\n",
        "\n",
        "            weight_raw = weight[:,c_in,:,:] #the dimension of weights are now 3\n",
        "            weight_raw.data = self.kernel_hpf_even(weight_raw.data,3)\n",
        "            weight_raw.data = self.quantization_n(weight_raw.data, 1, 1)\n",
        "            '''interleave dimension needs to be changed since now the first dimension is batch dimension'''\n",
        "            dmd_1 = self.make_complex(self.input_pad(signal,res)) #dimension of dmd1 is now 4, first dimension is now batch dimension, so propTF needs to be changed accordingly\n",
        "\n",
        "            # print(dmd_1[0].size())\n",
        "            # print(type(dmd_1[0]))\n",
        "            # ts.show(self.input_pad(signal,res)[0])\n",
        "\n",
        "            #now need to implement propTF function\n",
        "            # u2 = self.propTF(dmd_1,1.9e-2, lambdaa, 1.9e-2)\n",
        "            \n",
        "            '''Fourier Transform after first lens'''\n",
        "            Gg = torch.fft.fftshift(torch.fft.fft2(dmd_1))\n",
        "            # Gi = self.complex_mul(Gg,self.conj_transpose(H))\n",
        "            Gi = Gg.unsqueeze(1)\n",
        "            \n",
        "            '''dot product in the fourier plane'''\n",
        "            Gii = self.complex_mul(Gi,self.make_complex(weight_raw))\n",
        "            '''Then get the result in real space'''\n",
        "            Grs = torch.fft.ifft2(torch.fft.ifftshift(Gii))\n",
        "            Grs = torch.view_as_real(Grs)#.   field output\n",
        "            #Ii = torch.abs(Grs)**2\n",
        "            Ii = torch.sqrt(Grs[...,0]**2+Grs[...,1]**2+err)#   camera output (take the squre to represent light intensity)\n",
        "            op_abs = Ii\n",
        "            output_full += op_abs\n",
        "        return output_full\n",
        "\n",
        "    def forward(self, input):\n",
        "        return self.accurate_model_forward(input, self.weight)\n",
        "        \n",
        "\n",
        "\n",
        "class FFTconv(nn.Module):\n",
        "    def __init__(self):\n",
        "        super(FFTconv, self).__init__()\n",
        "        self.conv1 = FTconvlayer(1, 16, 28) #outdimension should be [32,16,28,28] (1/3,:,5/28/32) depends on whether training in fourier domain or no\n",
        "        #self.conv1 = nn.Conv2d(3, 16, 3, padding=1)\n",
        "        self.bn1 = nn.BatchNorm2d(16)\n",
        "        self.pool1 = nn.MaxPool2d(2, 2)\n",
        "        self.fc01 = nn.Linear(16 * 14 * 14, 256)\n",
        "        self.fc02 = nn.Linear(256, 10)\n",
        "        self.drop_layer = nn.Dropout(p=0.3)\n",
        "    \n",
        "    def forward(self, x):\n",
        "        #x = self.pool1(F.relu(self.bn1(self.conv1(x))))\n",
        "        x = self.bn1(self.pool1(self.conv1(x)))\n",
        "        x = x.view(-1, 16 * 14 * 14)\n",
        "        #x = self.drop_layer(x)\n",
        "        x = F.relu(self.fc01(x))\n",
        "        #x = self.drop_layer(x)\n",
        "        x = self.fc02(x)\n",
        "        return x\n",
        "\n",
        "net = FFTconv()    \n",
        "\n",
        "\n",
        "if device:\n",
        "    net.to(device)\n",
        "    #torch.backends.cudnn.benchmark = True\n",
        "    print(\"put net onto GPU\")\n",
        "print(net)\n",
        "\n"
      ],
      "metadata": {
        "colab": {
          "base_uri": "https://localhost:8080/"
        },
        "id": "_W_owuFJejf-",
        "outputId": "253c6eb0-4614-475c-8ca5-8e9b98f1130d"
      },
      "execution_count": 14,
      "outputs": [
        {
          "output_type": "stream",
          "name": "stdout",
          "text": [
            "put net onto GPU\n",
            "FFTconv(\n",
            "  (conv1): FTconvlayer(1, 16, kernel_size=(28, 28), stride=(1, 1))\n",
            "  (bn1): BatchNorm2d(16, eps=1e-05, momentum=0.1, affine=True, track_running_stats=True)\n",
            "  (pool1): MaxPool2d(kernel_size=2, stride=2, padding=0, dilation=1, ceil_mode=False)\n",
            "  (fc01): Linear(in_features=3136, out_features=256, bias=True)\n",
            "  (fc02): Linear(in_features=256, out_features=10, bias=True)\n",
            "  (drop_layer): Dropout(p=0.3, inplace=False)\n",
            ")\n"
          ]
        }
      ]
    },
    {
      "cell_type": "code",
      "metadata": {
        "id": "c0LeM9VV9sJZ"
      },
      "source": [
        "import torch.optim as optim\n",
        "criterion = nn.CrossEntropyLoss()\n",
        "#optimizer = optim.SGD(net.parameters(), lr=0.0005, momentum=0.9)\n",
        "optimizer = optim.Adam(net.parameters(), lr=0.001) #default learning rate for adam is 0.001\n",
        "torch.backends.cudnn.deterministic = True\n",
        "torch.backends.cudnn.benchmark = False\n",
        "\n",
        "def adjust_learning_rate(optimizer, epoch, init_lr, freq):\n",
        "    \"\"\"Sets the learning rate to the initial LR decayed by 2 every n epochs\"\"\"\n",
        "    lr = init_lr * (0.3 ** (epoch // freq))\n",
        "    for param_group in optimizer.param_groups:\n",
        "        param_group['lr'] = lr"
      ],
      "execution_count": 15,
      "outputs": []
    },
    {
      "cell_type": "code",
      "metadata": {
        "colab": {
          "base_uri": "https://localhost:8080/"
        },
        "id": "RamA6QAh9sot",
        "outputId": "1e3d2881-e7e0-42b3-8785-7b046786a411"
      },
      "source": [
        "for epoch in range(25):  # loop over the dataset multiple times\n",
        "    print('Training epoch ...')\n",
        "    start_time = time.time()\n",
        "    running_loss = 0.0\n",
        "    adjust_learning_rate(optimizer, epoch, 0.001, 10)\n",
        "    for i, data in enumerate(trainloader, 0):\n",
        "        # get the inputs; data is a list of [inputs, labels]\n",
        "        inputs, labels = data\n",
        "        inputs, labels = inputs.to(device), labels.to(device)\n",
        "\n",
        "        # zero the parameter gradients\n",
        "        optimizer.zero_grad()\n",
        "\n",
        "        # forward + backward + optimize\n",
        "        outputs = net(inputs)\n",
        "        loss = criterion(outputs, labels)\n",
        "        loss.backward()\n",
        "        optimizer.step()\n",
        "\n",
        "        # print statistics\n",
        "        running_loss += loss.item()\n",
        "        if i % 200 == 199:    # print every 200 mini-batches\n",
        "            print('[%d, %5d] loss: %.3f' %\n",
        "                  (epoch + 1, i + 1, running_loss / 200))\n",
        "            running_loss = 0.0\n",
        "    test()\n",
        "\n",
        "print('Finished Training')\n"
      ],
      "execution_count": 17,
      "outputs": [
        {
          "output_type": "stream",
          "name": "stdout",
          "text": [
            "Training epoch ...\n",
            "[1,   200] loss: 0.006\n",
            "[1,   400] loss: 0.072\n",
            "[1,   600] loss: 0.021\n",
            "[1,   800] loss: 0.012\n",
            "Accuracy of the network on the 10000 test images: 98.587740 %\n",
            "Training epoch ...\n",
            "[2,   200] loss: 0.006\n",
            "[2,   400] loss: 0.007\n",
            "[2,   600] loss: 0.011\n",
            "[2,   800] loss: 0.016\n",
            "Accuracy of the network on the 10000 test images: 98.657853 %\n",
            "Training epoch ...\n",
            "[3,   200] loss: 0.008\n",
            "[3,   400] loss: 0.006\n",
            "[3,   600] loss: 0.010\n",
            "[3,   800] loss: 0.006\n",
            "Accuracy of the network on the 10000 test images: 98.687901 %\n",
            "Training epoch ...\n",
            "[4,   200] loss: 0.005\n",
            "[4,   400] loss: 0.002\n",
            "[4,   600] loss: 0.008\n",
            "[4,   800] loss: 0.007\n",
            "Accuracy of the network on the 10000 test images: 98.407452 %\n",
            "Training epoch ...\n",
            "[5,   200] loss: 0.012\n",
            "[5,   400] loss: 0.009\n",
            "[5,   600] loss: 0.008\n",
            "[5,   800] loss: 0.004\n",
            "Accuracy of the network on the 10000 test images: 98.747997 %\n",
            "Training epoch ...\n",
            "[6,   200] loss: 0.003\n",
            "[6,   400] loss: 0.002\n",
            "[6,   600] loss: 0.008\n",
            "[6,   800] loss: 0.008\n",
            "Accuracy of the network on the 10000 test images: 98.116987 %\n",
            "Training epoch ...\n",
            "[7,   200] loss: 0.009\n",
            "[7,   400] loss: 0.008\n",
            "[7,   600] loss: 0.006\n",
            "[7,   800] loss: 0.005\n",
            "Accuracy of the network on the 10000 test images: 98.707933 %\n",
            "Training epoch ...\n",
            "[8,   200] loss: 0.002\n",
            "[8,   400] loss: 0.002\n",
            "[8,   600] loss: 0.010\n",
            "[8,   800] loss: 0.006\n",
            "Accuracy of the network on the 10000 test images: 98.527644 %\n",
            "Training epoch ...\n",
            "[9,   200] loss: 0.008\n",
            "[9,   400] loss: 0.006\n",
            "[9,   600] loss: 0.003\n",
            "[9,   800] loss: 0.007\n",
            "Accuracy of the network on the 10000 test images: 98.788061 %\n",
            "Training epoch ...\n",
            "[10,   200] loss: 0.004\n",
            "[10,   400] loss: 0.006\n",
            "[10,   600] loss: 0.013\n",
            "[10,   800] loss: 0.009\n",
            "Accuracy of the network on the 10000 test images: 98.848157 %\n",
            "Training epoch ...\n",
            "[11,   200] loss: 0.001\n",
            "[11,   400] loss: 0.001\n",
            "[11,   600] loss: 0.000\n",
            "[11,   800] loss: 0.001\n",
            "Accuracy of the network on the 10000 test images: 99.028446 %\n",
            "Training epoch ...\n",
            "[12,   200] loss: 0.000\n",
            "[12,   400] loss: 0.000\n",
            "[12,   600] loss: 0.000\n",
            "[12,   800] loss: 0.000\n",
            "Accuracy of the network on the 10000 test images: 99.118590 %\n",
            "Training epoch ...\n",
            "[13,   200] loss: 0.000\n",
            "[13,   400] loss: 0.000\n",
            "[13,   600] loss: 0.000\n",
            "[13,   800] loss: 0.000\n",
            "Accuracy of the network on the 10000 test images: 99.088542 %\n",
            "Training epoch ...\n",
            "[14,   200] loss: 0.000\n",
            "[14,   400] loss: 0.000\n",
            "[14,   600] loss: 0.000\n",
            "[14,   800] loss: 0.000\n",
            "Accuracy of the network on the 10000 test images: 99.038462 %\n",
            "Training epoch ...\n",
            "[15,   200] loss: 0.001\n",
            "[15,   400] loss: 0.000\n",
            "[15,   600] loss: 0.000\n",
            "[15,   800] loss: 0.000\n",
            "Accuracy of the network on the 10000 test images: 98.998397 %\n",
            "Training epoch ...\n",
            "[16,   200] loss: 0.000\n",
            "[16,   400] loss: 0.000\n",
            "[16,   600] loss: 0.000\n",
            "[16,   800] loss: 0.000\n",
            "Accuracy of the network on the 10000 test images: 99.088542 %\n",
            "Training epoch ...\n",
            "[17,   200] loss: 0.000\n",
            "[17,   400] loss: 0.000\n",
            "[17,   600] loss: 0.000\n",
            "[17,   800] loss: 0.000\n",
            "Accuracy of the network on the 10000 test images: 99.038462 %\n",
            "Training epoch ...\n",
            "[18,   200] loss: 0.000\n",
            "[18,   400] loss: 0.000\n",
            "[18,   600] loss: 0.000\n",
            "[18,   800] loss: 0.000\n",
            "Accuracy of the network on the 10000 test images: 99.088542 %\n",
            "Training epoch ...\n",
            "[19,   200] loss: 0.000\n",
            "[19,   400] loss: 0.000\n",
            "[19,   600] loss: 0.000\n",
            "[19,   800] loss: 0.000\n",
            "Accuracy of the network on the 10000 test images: 99.138622 %\n",
            "Training epoch ...\n",
            "[20,   200] loss: 0.000\n",
            "[20,   400] loss: 0.000\n",
            "[20,   600] loss: 0.000\n",
            "[20,   800] loss: 0.000\n",
            "Accuracy of the network on the 10000 test images: 99.098558 %\n",
            "Training epoch ...\n",
            "[21,   200] loss: 0.000\n",
            "[21,   400] loss: 0.000\n",
            "[21,   600] loss: 0.000\n",
            "[21,   800] loss: 0.000\n",
            "Accuracy of the network on the 10000 test images: 99.128606 %\n",
            "Training epoch ...\n",
            "[22,   200] loss: 0.000\n",
            "[22,   400] loss: 0.000\n",
            "[22,   600] loss: 0.000\n",
            "[22,   800] loss: 0.000\n",
            "Accuracy of the network on the 10000 test images: 99.048478 %\n",
            "Training epoch ...\n",
            "[23,   200] loss: 0.000\n",
            "[23,   400] loss: 0.000\n",
            "[23,   600] loss: 0.000\n",
            "[23,   800] loss: 0.000\n",
            "Accuracy of the network on the 10000 test images: 99.058494 %\n",
            "Training epoch ...\n",
            "[24,   200] loss: 0.000\n",
            "[24,   400] loss: 0.000\n",
            "[24,   600] loss: 0.000\n",
            "[24,   800] loss: 0.000\n",
            "Accuracy of the network on the 10000 test images: 99.058494 %\n",
            "Training epoch ...\n",
            "[25,   200] loss: 0.000\n",
            "[25,   400] loss: 0.000\n",
            "[25,   600] loss: 0.000\n",
            "[25,   800] loss: 0.000\n",
            "Accuracy of the network on the 10000 test images: 99.058494 %\n",
            "Finished Training\n"
          ]
        }
      ]
    },
    {
      "cell_type": "code",
      "metadata": {
        "colab": {
          "base_uri": "https://localhost:8080/"
        },
        "id": "jxDNHQXFsrMU",
        "outputId": "3efd288d-ea37-41ad-d290-39f18a7cc4fa"
      },
      "source": [
        "test()"
      ],
      "execution_count": 18,
      "outputs": [
        {
          "output_type": "stream",
          "name": "stdout",
          "text": [
            "Accuracy of the network on the 10000 test images: 99.058494 %\n"
          ]
        }
      ]
    },
    {
      "cell_type": "code",
      "metadata": {
        "id": "THnma9Hvd-xK"
      },
      "source": [
        "#functions required to generate final weights\n",
        "def quantization_n(input, n = 1, max = 1):\n",
        "  intv = max/(2**n-1)\n",
        "  qunt = torch.ceil(torch.mul(input,(1/intv)))  #***use ceil instead of floor for small value of n to make sure that not all weights are modified to zero in the beginning, achieves good accuracy for small n\n",
        "  #the above line divide the whole tensor by the smallest interval (1/2**n-1), which is same as multiply with 2**n-1, then take the floor and finally multiply the whole tensor with the smallest interval\n",
        "  out = torch.mul(qunt,intv)\n",
        "  out = torch.clamp(out, min=0, max=max) #make sure the quantized version lies in the interval 0-1, if it's bigger than one just clamp it at one\n",
        "  return(out) \n",
        "\n",
        "# def kernel_even(input):\n",
        "#   dim = len(input.shape)\n",
        "#   print(dim)\n",
        "#   input_transpose = torch.transpose(input,dim-2,dim-1)\n",
        "#   input = (input + input_transpose)/2\n",
        "#   return input\n",
        "\n",
        "def kernel_hpf_even(input, amount):\n",
        "  # make the center part of the weight to be zero and make the filter symmetrical\n",
        "  # This function should be placed before quantization\n",
        "  # amount is the size of the area that are set to 0\n",
        "  mid = int(input.shape[2]/2)\n",
        "  dim = len(input.shape)\n",
        "  input[...,mid-amount:mid+amount,mid-amount:mid+amount] = 0 #set the center part to be zero\n",
        "  print(dim)\n",
        "  input_transpose = torch.transpose(input, dim-2,dim-1)\n",
        "  input = (input + input_transpose)/2\n",
        "  #even = input\n",
        "  return input"
      ],
      "execution_count": 11,
      "outputs": []
    },
    {
      "cell_type": "code",
      "metadata": {
        "id": "6IsWaJhFmjh7",
        "colab": {
          "base_uri": "https://localhost:8080/"
        },
        "outputId": "728cadd6-cc59-451b-cddf-886f343991ed"
      },
      "source": [
        "weights = torch.clone(net.state_dict()['conv1.weight'])\n",
        "weights = kernel_hpf_even(weights,3)\n",
        "#weights = kernel_even(weights)\n",
        "weights = quantization_n(weights,1,1)\n",
        "weights_np = weights.cpu().numpy()\n",
        "np.save('mnist_even_hpf6',weights_np)\n",
        "print(weights[7,0,10:18,10:18])#number of filters (16); number of input channels (1); x,y\n",
        "#print(net.state_dict()['conv1.weight'][10,...]) "
      ],
      "execution_count": 12,
      "outputs": [
        {
          "output_type": "stream",
          "name": "stdout",
          "text": [
            "4\n",
            "tensor([[0., 0., 0., 0., 0., 0., 0., 0.],\n",
            "        [0., 0., 0., 0., 0., 0., 0., 1.],\n",
            "        [0., 0., 0., 0., 0., 0., 0., 0.],\n",
            "        [0., 0., 0., 0., 0., 0., 0., 1.],\n",
            "        [0., 0., 0., 0., 0., 0., 0., 0.],\n",
            "        [0., 0., 0., 0., 0., 0., 0., 1.],\n",
            "        [0., 0., 0., 0., 0., 0., 0., 0.],\n",
            "        [0., 1., 0., 1., 0., 1., 0., 0.]], device='cuda:0')\n"
          ]
        }
      ]
    },
    {
      "cell_type": "markdown",
      "metadata": {
        "id": "rr7BIzPL-BkM"
      },
      "source": [
        ""
      ]
    },
    {
      "cell_type": "code",
      "source": [
        "from pylab import *"
      ],
      "metadata": {
        "id": "gUsBhqPiDZIb"
      },
      "execution_count": 13,
      "outputs": []
    },
    {
      "cell_type": "code",
      "source": [
        "import tensorflow as tf"
      ],
      "metadata": {
        "id": "w0cjceZXgO-N"
      },
      "execution_count": 14,
      "outputs": []
    },
    {
      "cell_type": "code",
      "source": [
        "for i in range(10):\n",
        "  test_image, test_target = testset[i]\n",
        "  imshow(tf.squeeze(test_image))\n",
        "  plt.show()\n",
        "  print(test_target)"
      ],
      "metadata": {
        "colab": {
          "base_uri": "https://localhost:8080/",
          "height": 1000
        },
        "id": "Ef2XS_ySAxUe",
        "outputId": "38fe7ea0-f4cd-4c3e-eb02-c4c94df30f31"
      },
      "execution_count": 15,
      "outputs": [
        {
          "output_type": "display_data",
          "data": {
            "text/plain": [
              "<Figure size 432x288 with 1 Axes>"
            ],
            "image/png": "[encoded data removed]"
          },
          "metadata": {
            "needs_background": "light"
          }
        },
        {
          "output_type": "stream",
          "name": "stdout",
          "text": [
            "7\n"
          ]
        },
        {
          "output_type": "display_data",
          "data": {
            "text/plain": [
              "<Figure size 432x288 with 1 Axes>"
            ],
            "image/png": "[encoded data removed]"
          },
          "metadata": {
            "needs_background": "light"
          }
        },
        {
          "output_type": "stream",
          "name": "stdout",
          "text": [
            "2\n"
          ]
        },
        {
          "output_type": "display_data",
          "data": {
            "text/plain": [
              "<Figure size 432x288 with 1 Axes>"
            ],
            "image/png": "[encoded data removed]"
          },
          "metadata": {
            "needs_background": "light"
          }
        },
        {
          "output_type": "stream",
          "name": "stdout",
          "text": [
            "1\n"
          ]
        },
        {
          "output_type": "display_data",
          "data": {
            "text/plain": [
              "<Figure size 432x288 with 1 Axes>"
            ],
            "image/png": "[encoded data removed]"
          },
          "metadata": {
            "needs_background": "light"
          }
        },
        {
          "output_type": "stream",
          "name": "stdout",
          "text": [
            "0\n"
          ]
        },
        {
          "output_type": "display_data",
          "data": {
            "text/plain": [
              "<Figure size 432x288 with 1 Axes>"
            ],
            "image/png": "[encoded data removed]"
          },
          "metadata": {
            "needs_background": "light"
          }
        },
        {
          "output_type": "stream",
          "name": "stdout",
          "text": [
            "4\n"
          ]
        },
        {
          "output_type": "display_data",
          "data": {
            "text/plain": [
              "<Figure size 432x288 with 1 Axes>"
            ],
            "image/png": "[encoded data removed]"
          },
          "metadata": {
            "needs_background": "light"
          }
        },
        {
          "output_type": "stream",
          "name": "stdout",
          "text": [
            "1\n"
          ]
        },
        {
          "output_type": "display_data",
          "data": {
            "text/plain": [
              "<Figure size 432x288 with 1 Axes>"
            ],
            "image/png": "[encoded data removed]"
          },
          "metadata": {
            "needs_background": "light"
          }
        },
        {
          "output_type": "stream",
          "name": "stdout",
          "text": [
            "4\n"
          ]
        },
        {
          "output_type": "display_data",
          "data": {
            "text/plain": [
              "<Figure size 432x288 with 1 Axes>"
            ],
            "image/png": "[encoded data removed]"
          },
          "metadata": {
            "needs_background": "light"
          }
        },
        {
          "output_type": "stream",
          "name": "stdout",
          "text": [
            "9\n"
          ]
        },
        {
          "output_type": "display_data",
          "data": {
            "text/plain": [
              "<Figure size 432x288 with 1 Axes>"
            ],
            "image/png": "[encoded data removed]"
          },
          "metadata": {
            "needs_background": "light"
          }
        },
        {
          "output_type": "stream",
          "name": "stdout",
          "text": [
            "5\n"
          ]
        },
        {
          "output_type": "display_data",
          "data": {
            "text/plain": [
              "<Figure size 432x288 with 1 Axes>"
            ],
            "image/png": "[encoded data removed]"
          },
          "metadata": {
            "needs_background": "light"
          }
        },
        {
          "output_type": "stream",
          "name": "stdout",
          "text": [
            "9\n"
          ]
        }
      ]
    }
  ]
}